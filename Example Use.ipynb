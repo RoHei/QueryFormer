{
 "cells": [
  {
   "cell_type": "code",
   "execution_count": 1,
   "id": "d9c5213b",
   "metadata": {
    "ExecuteTime": {
     "end_time": "2024-07-18T14:28:32.073418Z",
     "start_time": "2024-07-18T14:28:31.316717Z"
    }
   },
   "outputs": [],
   "source": [
    "import numpy as np\n",
    "import torch\n",
    "import pandas as pd\n",
    "from model.util import Normalizer\n",
    "from model.database_util import get_hist_file, get_job_table_sample, collator\n",
    "from model.model import QueryFormer\n",
    "from model.dataset import PlanTreeDataset\n",
    "from model.util import seed_everything\n",
    "\n",
    "%load_ext autoreload\n",
    "%autoreload 2"
   ]
  },
  {
   "cell_type": "code",
   "execution_count": 2,
   "id": "aace65f6",
   "metadata": {
    "ExecuteTime": {
     "end_time": "2024-07-18T14:28:33.300683Z",
     "start_time": "2024-07-18T14:28:32.810691Z"
    }
   },
   "outputs": [
    {
     "name": "stderr",
     "output_type": "stream",
     "text": [
      "/Users/rheinrich/Projekte/QueryFormer/model/database_util.py:76: FutureWarning: ChainedAssignmentError: behaviour will change in pandas 3.0!\n",
      "You are setting values through chained assignment. Currently this works in certain cases, but when using Copy-on-Write (which will become the default behaviour in pandas 3.0) this will never work to update the original DataFrame or Series, because the intermediate object on which we are setting values will behave as a copy.\n",
      "A typical example is when you are setting values in a column of a DataFrame, like:\n",
      "\n",
      "df[\"col\"][row_indexer] = value\n",
      "\n",
      "Use `df.loc[row_indexer, \"col\"] = values` instead, to perform the assignment in a single step and ensure this keeps updating the original `df`.\n",
      "\n",
      "See the caveats in the documentation: https://pandas.pydata.org/pandas-docs/stable/user_guide/indexing.html#returning-a-view-versus-a-copy\n",
      "\n",
      "  hist_file['freq'][i] = freq_np\n",
      "/Users/rheinrich/Projekte/QueryFormer/model/database_util.py:89: FutureWarning: ChainedAssignmentError: behaviour will change in pandas 3.0!\n",
      "You are setting values through chained assignment. Currently this works in certain cases, but when using Copy-on-Write (which will become the default behaviour in pandas 3.0) this will never work to update the original DataFrame or Series, because the intermediate object on which we are setting values will behave as a copy.\n",
      "A typical example is when you are setting values in a column of a DataFrame, like:\n",
      "\n",
      "df[\"col\"][row_indexer] = value\n",
      "\n",
      "Use `df.loc[row_indexer, \"col\"] = values` instead, to perform the assignment in a single step and ensure this keeps updating the original `df`.\n",
      "\n",
      "See the caveats in the documentation: https://pandas.pydata.org/pandas-docs/stable/user_guide/indexing.html#returning-a-view-versus-a-copy\n",
      "\n",
      "  hist_file['bins'][rid] = \\\n",
      "/Users/rheinrich/Projekte/QueryFormer/model/database_util.py:89: FutureWarning: ChainedAssignmentError: behaviour will change in pandas 3.0!\n",
      "You are setting values through chained assignment. Currently this works in certain cases, but when using Copy-on-Write (which will become the default behaviour in pandas 3.0) this will never work to update the original DataFrame or Series, because the intermediate object on which we are setting values will behave as a copy.\n",
      "A typical example is when you are setting values in a column of a DataFrame, like:\n",
      "\n",
      "df[\"col\"][row_indexer] = value\n",
      "\n",
      "Use `df.loc[row_indexer, \"col\"] = values` instead, to perform the assignment in a single step and ensure this keeps updating the original `df`.\n",
      "\n",
      "See the caveats in the documentation: https://pandas.pydata.org/pandas-docs/stable/user_guide/indexing.html#returning-a-view-versus-a-copy\n",
      "\n",
      "  hist_file['bins'][rid] = \\\n",
      "/Users/rheinrich/Projekte/QueryFormer/model/database_util.py:89: FutureWarning: ChainedAssignmentError: behaviour will change in pandas 3.0!\n",
      "You are setting values through chained assignment. Currently this works in certain cases, but when using Copy-on-Write (which will become the default behaviour in pandas 3.0) this will never work to update the original DataFrame or Series, because the intermediate object on which we are setting values will behave as a copy.\n",
      "A typical example is when you are setting values in a column of a DataFrame, like:\n",
      "\n",
      "df[\"col\"][row_indexer] = value\n",
      "\n",
      "Use `df.loc[row_indexer, \"col\"] = values` instead, to perform the assignment in a single step and ensure this keeps updating the original `df`.\n",
      "\n",
      "See the caveats in the documentation: https://pandas.pydata.org/pandas-docs/stable/user_guide/indexing.html#returning-a-view-versus-a-copy\n",
      "\n",
      "  hist_file['bins'][rid] = \\\n",
      "/Users/rheinrich/Projekte/QueryFormer/model/database_util.py:89: FutureWarning: ChainedAssignmentError: behaviour will change in pandas 3.0!\n",
      "You are setting values through chained assignment. Currently this works in certain cases, but when using Copy-on-Write (which will become the default behaviour in pandas 3.0) this will never work to update the original DataFrame or Series, because the intermediate object on which we are setting values will behave as a copy.\n",
      "A typical example is when you are setting values in a column of a DataFrame, like:\n",
      "\n",
      "df[\"col\"][row_indexer] = value\n",
      "\n",
      "Use `df.loc[row_indexer, \"col\"] = values` instead, to perform the assignment in a single step and ensure this keeps updating the original `df`.\n",
      "\n",
      "See the caveats in the documentation: https://pandas.pydata.org/pandas-docs/stable/user_guide/indexing.html#returning-a-view-versus-a-copy\n",
      "\n",
      "  hist_file['bins'][rid] = \\\n",
      "/Users/rheinrich/Projekte/QueryFormer/model/database_util.py:89: FutureWarning: ChainedAssignmentError: behaviour will change in pandas 3.0!\n",
      "You are setting values through chained assignment. Currently this works in certain cases, but when using Copy-on-Write (which will become the default behaviour in pandas 3.0) this will never work to update the original DataFrame or Series, because the intermediate object on which we are setting values will behave as a copy.\n",
      "A typical example is when you are setting values in a column of a DataFrame, like:\n",
      "\n",
      "df[\"col\"][row_indexer] = value\n",
      "\n",
      "Use `df.loc[row_indexer, \"col\"] = values` instead, to perform the assignment in a single step and ensure this keeps updating the original `df`.\n",
      "\n",
      "See the caveats in the documentation: https://pandas.pydata.org/pandas-docs/stable/user_guide/indexing.html#returning-a-view-versus-a-copy\n",
      "\n",
      "  hist_file['bins'][rid] = \\\n",
      "/Users/rheinrich/Projekte/QueryFormer/model/database_util.py:89: FutureWarning: ChainedAssignmentError: behaviour will change in pandas 3.0!\n",
      "You are setting values through chained assignment. Currently this works in certain cases, but when using Copy-on-Write (which will become the default behaviour in pandas 3.0) this will never work to update the original DataFrame or Series, because the intermediate object on which we are setting values will behave as a copy.\n",
      "A typical example is when you are setting values in a column of a DataFrame, like:\n",
      "\n",
      "df[\"col\"][row_indexer] = value\n",
      "\n",
      "Use `df.loc[row_indexer, \"col\"] = values` instead, to perform the assignment in a single step and ensure this keeps updating the original `df`.\n",
      "\n",
      "See the caveats in the documentation: https://pandas.pydata.org/pandas-docs/stable/user_guide/indexing.html#returning-a-view-versus-a-copy\n",
      "\n",
      "  hist_file['bins'][rid] = \\\n",
      "/Users/rheinrich/Projekte/QueryFormer/model/database_util.py:89: FutureWarning: ChainedAssignmentError: behaviour will change in pandas 3.0!\n",
      "You are setting values through chained assignment. Currently this works in certain cases, but when using Copy-on-Write (which will become the default behaviour in pandas 3.0) this will never work to update the original DataFrame or Series, because the intermediate object on which we are setting values will behave as a copy.\n",
      "A typical example is when you are setting values in a column of a DataFrame, like:\n",
      "\n",
      "df[\"col\"][row_indexer] = value\n",
      "\n",
      "Use `df.loc[row_indexer, \"col\"] = values` instead, to perform the assignment in a single step and ensure this keeps updating the original `df`.\n",
      "\n",
      "See the caveats in the documentation: https://pandas.pydata.org/pandas-docs/stable/user_guide/indexing.html#returning-a-view-versus-a-copy\n",
      "\n",
      "  hist_file['bins'][rid] = \\\n",
      "/Users/rheinrich/Projekte/QueryFormer/model/database_util.py:89: FutureWarning: ChainedAssignmentError: behaviour will change in pandas 3.0!\n",
      "You are setting values through chained assignment. Currently this works in certain cases, but when using Copy-on-Write (which will become the default behaviour in pandas 3.0) this will never work to update the original DataFrame or Series, because the intermediate object on which we are setting values will behave as a copy.\n",
      "A typical example is when you are setting values in a column of a DataFrame, like:\n",
      "\n",
      "df[\"col\"][row_indexer] = value\n",
      "\n",
      "Use `df.loc[row_indexer, \"col\"] = values` instead, to perform the assignment in a single step and ensure this keeps updating the original `df`.\n",
      "\n",
      "See the caveats in the documentation: https://pandas.pydata.org/pandas-docs/stable/user_guide/indexing.html#returning-a-view-versus-a-copy\n",
      "\n",
      "  hist_file['bins'][rid] = \\\n",
      "/Users/rheinrich/Projekte/QueryFormer/model/database_util.py:89: FutureWarning: ChainedAssignmentError: behaviour will change in pandas 3.0!\n",
      "You are setting values through chained assignment. Currently this works in certain cases, but when using Copy-on-Write (which will become the default behaviour in pandas 3.0) this will never work to update the original DataFrame or Series, because the intermediate object on which we are setting values will behave as a copy.\n",
      "A typical example is when you are setting values in a column of a DataFrame, like:\n",
      "\n",
      "df[\"col\"][row_indexer] = value\n",
      "\n",
      "Use `df.loc[row_indexer, \"col\"] = values` instead, to perform the assignment in a single step and ensure this keeps updating the original `df`.\n",
      "\n",
      "See the caveats in the documentation: https://pandas.pydata.org/pandas-docs/stable/user_guide/indexing.html#returning-a-view-versus-a-copy\n",
      "\n",
      "  hist_file['bins'][rid] = \\\n"
     ]
    }
   ],
   "source": [
    "class Args:\n",
    "    pass\n",
    "\n",
    "data_path = './data/imdb/'\n",
    "hist_file = get_hist_file(data_path + 'histogram_string.csv')\n",
    "cost_norm = Normalizer(-3.61192, 12.290855)\n",
    "encoding_ckpt = torch.load('checkpoints/encoding.pt')\n",
    "encoding = encoding_ckpt['encoding']\n",
    "checkpoint = torch.load('checkpoints/cost_model.pt', map_location='cpu')\n",
    "seed_everything()\n",
    "args = checkpoint['args']"
   ]
  },
  {
   "cell_type": "code",
   "outputs": [],
   "source": [
    "model = QueryFormer(emb_size = args.embed_size,\n",
    "                    ffn_dim = args.ffn_dim, \n",
    "                    head_size = args.head_size,\n",
    "                    dropout = args.dropout, \n",
    "                    n_layers = args.n_layers,\n",
    "                    use_sample = True, \n",
    "                    use_hist = True,\n",
    "                    pred_hid = args.pred_hid)\n",
    "model.load_state_dict(checkpoint['model'])\n",
    "device = 'cpu'\n",
    "_ = model.to(device).eval()\n",
    "to_predict = 'cost'\n",
    "methods = {\n",
    "    'get_sample' : get_job_table_sample,\n",
    "    'encoding': encoding,\n",
    "    'cost_norm': cost_norm,\n",
    "    'hist_file': hist_file,\n",
    "    'model': model,\n",
    "    'device': device,\n",
    "    'bs': 512,\n",
    "}"
   ],
   "metadata": {
    "collapsed": false,
    "ExecuteTime": {
     "end_time": "2024-07-18T14:28:41.933031Z",
     "start_time": "2024-07-18T14:28:41.901781Z"
    }
   },
   "id": "f9592f60",
   "execution_count": 4
  },
  {
   "cell_type": "code",
   "execution_count": 5,
   "id": "bd9e7796",
   "metadata": {
    "ExecuteTime": {
     "end_time": "2024-07-18T14:28:44.691030Z",
     "start_time": "2024-07-18T14:28:44.665756Z"
    }
   },
   "outputs": [],
   "source": [
    "def print_qerror(preds_unnorm, labels_unnorm):\n",
    "    qerror = []\n",
    "    for i in range(len(preds_unnorm)):\n",
    "        if preds_unnorm[i] > float(labels_unnorm[i]):\n",
    "            qerror.append(preds_unnorm[i] / float(labels_unnorm[i]))\n",
    "        else:\n",
    "            qerror.append(float(labels_unnorm[i]) / float(preds_unnorm[i]))\n",
    "\n",
    "    e_50, e_90 = np.median(qerror), np.percentile(qerror,90)    \n",
    "    e_mean = np.mean(qerror)\n",
    "    print(\"Median: {}\".format(e_50))\n",
    "    print(\"90th percentile: {}\".format(e_90))\n",
    "    print(\"Mean: {}\".format(e_mean))\n",
    "    return \n",
    "\n",
    "def evaluate(model, ds, bs, norm, device):\n",
    "    model.eval()\n",
    "    cost_predss = np.empty(0)\n",
    "\n",
    "    with torch.no_grad():\n",
    "        for i in range(0, len(ds), bs):\n",
    "            batch, batch_labels = collator(list(zip(*[ds[j] for j in range(i,min(i+bs, len(ds)) ) ])))\n",
    "            batch = batch.to(device)\n",
    "            cost_preds, _ = model(batch)\n",
    "            cost_preds = cost_preds.squeeze()\n",
    "            cost_predss = np.append(cost_predss, cost_preds.cpu().detach().numpy())\n",
    "    print_qerror(norm.unnormalize_labels(cost_predss), ds.costs)\n",
    "    return\n",
    "\n",
    "def eval_workload(workload, methods):\n",
    "    get_table_sample = methods['get_sample']\n",
    "    workload_file_name = './data/imdb/workloads/' + workload\n",
    "    table_sample = get_table_sample(workload_file_name)\n",
    "    plan_df = pd.read_csv('./data/imdb/{}_plan.csv'.format(workload))\n",
    "    workload_csv = pd.read_csv('./data/imdb/workloads/{}.csv'.format(workload),sep='#',header=None)\n",
    "    workload_csv.columns = ['table','join','predicate','cardinality']\n",
    "    \n",
    "    ds = PlanTreeDataset(plan_df, workload_csv,\n",
    "                         methods['encoding'], methods['hist_file'], methods['cost_norm'],\n",
    "                         methods['cost_norm'], 'cost', table_sample)\n",
    "\n",
    "    evaluate(methods['model'], ds, methods['bs'], methods['cost_norm'], methods['device'])\n",
    "    return "
   ]
  },
  {
   "cell_type": "code",
   "execution_count": 6,
   "id": "fd89df96",
   "metadata": {
    "ExecuteTime": {
     "end_time": "2024-07-18T14:28:48.299098Z",
     "start_time": "2024-07-18T14:28:47.906244Z"
    }
   },
   "outputs": [
    {
     "name": "stdout",
     "output_type": "stream",
     "text": [
      "Loaded queries with len  70\n",
      "Loaded bitmaps\n"
     ]
    },
    {
     "name": "stderr",
     "output_type": "stream",
     "text": [
      "/Users/rheinrich/Projekte/QueryFormer/model/dataset.py:109: UserWarning: Creating a tensor from a list of numpy.ndarrays is extremely slow. Please consider converting the list to a single numpy.ndarray with numpy.array() before converting to a tensor. (Triggered internally at /Users/runner/work/pytorch/pytorch/pytorch/torch/csrc/utils/tensor_new.cpp:277.)\n",
      "  'features' : torch.FloatTensor(features),\n"
     ]
    },
    {
     "name": "stdout",
     "output_type": "stream",
     "text": [
      "Median: 1.4075485927633589\n",
      "90th percentile: 20.276218730998703\n",
      "Mean: 12.49416464740001\n"
     ]
    }
   ],
   "source": [
    "eval_workload('job-light', methods)"
   ]
  },
  {
   "cell_type": "code",
   "execution_count": 7,
   "id": "9e40c30c",
   "metadata": {
    "ExecuteTime": {
     "end_time": "2024-07-18T14:28:57.924753Z",
     "start_time": "2024-07-18T14:28:56.217587Z"
    }
   },
   "outputs": [
    {
     "name": "stdout",
     "output_type": "stream",
     "text": [
      "Loaded queries with len  5000\n",
      "Loaded bitmaps\n",
      "Median: 1.065068244934082\n",
      "90th percentile: 1.7178602990562961\n",
      "Mean: 1.5365826878629782\n"
     ]
    }
   ],
   "source": [
    "eval_workload('synthetic', methods)"
   ]
  }
 ],
 "metadata": {
  "kernelspec": {
   "display_name": "Python 3",
   "language": "python",
   "name": "python3"
  },
  "language_info": {
   "codemirror_mode": {
    "name": "ipython",
    "version": 3
   },
   "file_extension": ".py",
   "mimetype": "text/x-python",
   "name": "python",
   "nbconvert_exporter": "python",
   "pygments_lexer": "ipython3",
   "version": "3.7.10"
  }
 },
 "nbformat": 4,
 "nbformat_minor": 5
}
